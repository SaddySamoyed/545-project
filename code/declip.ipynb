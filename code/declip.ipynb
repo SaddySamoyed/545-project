{
 "cells": [
  {
   "cell_type": "code",
   "execution_count": null,
   "metadata": {},
   "outputs": [],
   "source": [
    "#@title 1. Install Dependencies\n",
    "!pip install ultralytics opencv-python-headless diffusers transformers accelerate gradio torch safetensors bitsandbytes -q -U einops numpy gensim scikit-learn"
   ]
  },
  {
   "cell_type": "code",
   "execution_count": null,
   "metadata": {},
   "outputs": [],
   "source": [
    "dataset = fiftyone.zoo.load_zoo_dataset(\"coco-2017\")\n",
    "from google.colab import drive\n",
    "drive.mount('/content/drive')"
   ]
  }
 ],
 "metadata": {
  "kernelspec": {
   "display_name": "eecs545",
   "language": "python",
   "name": "python3"
  },
  "language_info": {
   "name": "python",
   "version": "3.11.5"
  }
 },
 "nbformat": 4,
 "nbformat_minor": 2
}
